{
 "cells": [
  {
   "cell_type": "code",
   "execution_count": 1,
   "id": "f5531f36",
   "metadata": {},
   "outputs": [
    {
     "data": {
      "text/html": [
       "<div>\n",
       "<style scoped>\n",
       "    .dataframe tbody tr th:only-of-type {\n",
       "        vertical-align: middle;\n",
       "    }\n",
       "\n",
       "    .dataframe tbody tr th {\n",
       "        vertical-align: top;\n",
       "    }\n",
       "\n",
       "    .dataframe thead th {\n",
       "        text-align: right;\n",
       "    }\n",
       "</style>\n",
       "<table border=\"1\" class=\"dataframe\">\n",
       "  <thead>\n",
       "    <tr style=\"text-align: right;\">\n",
       "      <th></th>\n",
       "      <th>Employee Name</th>\n",
       "      <th>Department</th>\n",
       "      <th>Salary</th>\n",
       "      <th>Age</th>\n",
       "      <th>Gender</th>\n",
       "      <th>Date of Join</th>\n",
       "    </tr>\n",
       "  </thead>\n",
       "  <tbody>\n",
       "    <tr>\n",
       "      <th>0</th>\n",
       "      <td>Wilson  K Adinolfi</td>\n",
       "      <td>Production</td>\n",
       "      <td>62506</td>\n",
       "      <td>49</td>\n",
       "      <td>Male</td>\n",
       "      <td>07-05-2011</td>\n",
       "    </tr>\n",
       "    <tr>\n",
       "      <th>1</th>\n",
       "      <td>Karthikeyan Ait Sidi</td>\n",
       "      <td>IT/IS</td>\n",
       "      <td>104437</td>\n",
       "      <td>55</td>\n",
       "      <td>Male</td>\n",
       "      <td>30-03-2015</td>\n",
       "    </tr>\n",
       "    <tr>\n",
       "      <th>2</th>\n",
       "      <td>Sarah Akinkuolie</td>\n",
       "      <td>Production</td>\n",
       "      <td>64955</td>\n",
       "      <td>49</td>\n",
       "      <td>Female</td>\n",
       "      <td>07-05-2011</td>\n",
       "    </tr>\n",
       "    <tr>\n",
       "      <th>3</th>\n",
       "      <td>Trina Alagbe</td>\n",
       "      <td>Production</td>\n",
       "      <td>64991</td>\n",
       "      <td>49</td>\n",
       "      <td>Female</td>\n",
       "      <td>01-07-2008</td>\n",
       "    </tr>\n",
       "    <tr>\n",
       "      <th>4</th>\n",
       "      <td>Carol Anderson</td>\n",
       "      <td>Production</td>\n",
       "      <td>50825</td>\n",
       "      <td>31</td>\n",
       "      <td>Female</td>\n",
       "      <td>07-11-2011</td>\n",
       "    </tr>\n",
       "    <tr>\n",
       "      <th>...</th>\n",
       "      <td>...</td>\n",
       "      <td>...</td>\n",
       "      <td>...</td>\n",
       "      <td>...</td>\n",
       "      <td>...</td>\n",
       "      <td>...</td>\n",
       "    </tr>\n",
       "    <tr>\n",
       "      <th>306</th>\n",
       "      <td>Jason Woodson</td>\n",
       "      <td>Production</td>\n",
       "      <td>65893</td>\n",
       "      <td>39</td>\n",
       "      <td>Male</td>\n",
       "      <td>07-07-2014</td>\n",
       "    </tr>\n",
       "    <tr>\n",
       "      <th>307</th>\n",
       "      <td>Catherine Ybarra</td>\n",
       "      <td>Production</td>\n",
       "      <td>48513</td>\n",
       "      <td>35</td>\n",
       "      <td>Female</td>\n",
       "      <td>09-02-2008</td>\n",
       "    </tr>\n",
       "    <tr>\n",
       "      <th>308</th>\n",
       "      <td>Jennifer Zamora</td>\n",
       "      <td>IT/IS</td>\n",
       "      <td>220450</td>\n",
       "      <td>42</td>\n",
       "      <td>Female</td>\n",
       "      <td>04-10-2010</td>\n",
       "    </tr>\n",
       "    <tr>\n",
       "      <th>309</th>\n",
       "      <td>Julia Zhou</td>\n",
       "      <td>IT/IS</td>\n",
       "      <td>89292</td>\n",
       "      <td>42</td>\n",
       "      <td>Female</td>\n",
       "      <td>30-03-2015</td>\n",
       "    </tr>\n",
       "    <tr>\n",
       "      <th>310</th>\n",
       "      <td>Colleen Zima</td>\n",
       "      <td>Production</td>\n",
       "      <td>45046</td>\n",
       "      <td>58</td>\n",
       "      <td>Female</td>\n",
       "      <td>29-09-2014</td>\n",
       "    </tr>\n",
       "  </tbody>\n",
       "</table>\n",
       "<p>311 rows × 6 columns</p>\n",
       "</div>"
      ],
      "text/plain": [
       "            Employee Name         Department  Salary  Age  Gender Date of Join\n",
       "0      Wilson  K Adinolfi  Production          62506   49   Male    07-05-2011\n",
       "1    Karthikeyan Ait Sidi              IT/IS  104437   55   Male    30-03-2015\n",
       "2        Sarah Akinkuolie  Production          64955   49  Female   07-05-2011\n",
       "3            Trina Alagbe  Production          64991   49  Female   01-07-2008\n",
       "4          Carol Anderson  Production          50825   31  Female   07-11-2011\n",
       "..                    ...                ...     ...  ...     ...          ...\n",
       "306         Jason Woodson  Production          65893   39   Male    07-07-2014\n",
       "307      Catherine Ybarra  Production          48513   35  Female   09-02-2008\n",
       "308       Jennifer Zamora              IT/IS  220450   42  Female   04-10-2010\n",
       "309            Julia Zhou              IT/IS   89292   42  Female   30-03-2015\n",
       "310          Colleen Zima  Production          45046   58  Female   29-09-2014\n",
       "\n",
       "[311 rows x 6 columns]"
      ]
     },
     "execution_count": 1,
     "metadata": {},
     "output_type": "execute_result"
    }
   ],
   "source": [
    "import pandas as pd\n",
    "data=pd.read_excel('Human resource.xlsx')\n",
    "data"
   ]
  },
  {
   "cell_type": "code",
   "execution_count": 2,
   "id": "9a6ac602",
   "metadata": {},
   "outputs": [
    {
     "name": "stdout",
     "output_type": "stream",
     "text": [
      "Total salary: 21465433\n"
     ]
    }
   ],
   "source": [
    "# Find total salary.\n",
    "\n",
    "print(\"Total salary:\",data[\"Salary\"].sum()) "
   ]
  },
  {
   "cell_type": "code",
   "execution_count": 3,
   "id": "b65995cd",
   "metadata": {},
   "outputs": [
    {
     "name": "stdout",
     "output_type": "stream",
     "text": [
      "Average salary: 69020.6848874598\n"
     ]
    }
   ],
   "source": [
    "# Find Average salary.\n",
    "\n",
    "print(\"Average salary:\",data[\"Salary\"].mean()) "
   ]
  },
  {
   "cell_type": "code",
   "execution_count": 4,
   "id": "c34089ec",
   "metadata": {},
   "outputs": [
    {
     "name": "stdout",
     "output_type": "stream",
     "text": [
      "Maximum salary: 250000\n"
     ]
    }
   ],
   "source": [
    "# Find Maximum salary.\n",
    "\n",
    "print(\"Maximum salary:\",data[\"Salary\"].max()) "
   ]
  },
  {
   "cell_type": "code",
   "execution_count": 5,
   "id": "4b1dea64",
   "metadata": {},
   "outputs": [
    {
     "name": "stdout",
     "output_type": "stream",
     "text": [
      "Minimum salary: 45046\n"
     ]
    }
   ],
   "source": [
    "# Find Minimum salary. \n",
    "\n",
    "print(\"Minimum salary:\",data[\"Salary\"].min()) \n"
   ]
  },
  {
   "cell_type": "code",
   "execution_count": 6,
   "id": "a40d8ae8",
   "metadata": {},
   "outputs": [
    {
     "data": {
      "text/plain": [
       "204954"
      ]
     },
     "execution_count": 6,
     "metadata": {},
     "output_type": "execute_result"
    }
   ],
   "source": [
    "# Find the range of salary.\n",
    "Range=250000-45046\n",
    "Range"
   ]
  },
  {
   "cell_type": "code",
   "execution_count": 7,
   "id": "f17074e8",
   "metadata": {},
   "outputs": [
    {
     "name": "stdout",
     "output_type": "stream",
     "text": [
      "descriptive statistics for the variable salary:               Salary         Age\n",
      "count     311.000000  311.000000\n",
      "mean    69020.684887   42.028939\n",
      "std     25156.636930   10.785106\n",
      "min     45046.000000   24.000000\n",
      "25%     55501.500000   33.000000\n",
      "50%     62810.000000   42.000000\n",
      "75%     72036.000000   51.500000\n",
      "max    250000.000000   60.000000\n"
     ]
    }
   ],
   "source": [
    "# Find the descriptive statistics for the variable salary and identify the varience.\n",
    "print(\"descriptive statistics for the variable salary:\",data.describe())"
   ]
  },
  {
   "cell_type": "code",
   "execution_count": 26,
   "id": "75e548ad",
   "metadata": {},
   "outputs": [
    {
     "name": "stdout",
     "output_type": "stream",
     "text": [
      "Identify the varience of salary : 632856381.6100614\n"
     ]
    }
   ],
   "source": [
    "# Find the descriptive statistics for the variable salary and identify the varience.\n",
    "print(\"Identify the varience of salary :\",data['Salary'].var())"
   ]
  },
  {
   "cell_type": "code",
   "execution_count": 9,
   "id": "2d202cb4",
   "metadata": {},
   "outputs": [
    {
     "name": "stdout",
     "output_type": "stream",
     "text": [
      "Average of Age: 42.02893890675241\n"
     ]
    }
   ],
   "source": [
    "# find the average age of employees.\n",
    "\n",
    "print(\"Average of Age:\",data[\"Age\"].mean()) "
   ]
  },
  {
   "cell_type": "code",
   "execution_count": 52,
   "id": "bd9812ef",
   "metadata": {},
   "outputs": [
    {
     "name": "stdout",
     "output_type": "stream",
     "text": [
      "Minimum age of employees : 24\n"
     ]
    }
   ],
   "source": [
    "# find the Minimum age of employees. \n",
    "\n",
    "print(\"Minimum age of employees :\",data[\"Age\"].min()) "
   ]
  },
  {
   "cell_type": "code",
   "execution_count": 53,
   "id": "5335359b",
   "metadata": {},
   "outputs": [
    {
     "name": "stdout",
     "output_type": "stream",
     "text": [
      "Maximum age of employees : 60\n"
     ]
    }
   ],
   "source": [
    "# find the Maximum age of employees. \n",
    "\n",
    "print(\"Maximum age of employees :\",data[\"Age\"].max()) "
   ]
  },
  {
   "cell_type": "code",
   "execution_count": 12,
   "id": "3c964a4a",
   "metadata": {},
   "outputs": [
    {
     "data": {
      "text/html": [
       "<div>\n",
       "<style scoped>\n",
       "    .dataframe tbody tr th:only-of-type {\n",
       "        vertical-align: middle;\n",
       "    }\n",
       "\n",
       "    .dataframe tbody tr th {\n",
       "        vertical-align: top;\n",
       "    }\n",
       "\n",
       "    .dataframe thead th {\n",
       "        text-align: right;\n",
       "    }\n",
       "</style>\n",
       "<table border=\"1\" class=\"dataframe\">\n",
       "  <thead>\n",
       "    <tr style=\"text-align: right;\">\n",
       "      <th></th>\n",
       "      <th>Salary</th>\n",
       "      <th>Age</th>\n",
       "    </tr>\n",
       "  </thead>\n",
       "  <tbody>\n",
       "    <tr>\n",
       "      <th>count</th>\n",
       "      <td>311.000000</td>\n",
       "      <td>311.000000</td>\n",
       "    </tr>\n",
       "    <tr>\n",
       "      <th>mean</th>\n",
       "      <td>69020.684887</td>\n",
       "      <td>42.028939</td>\n",
       "    </tr>\n",
       "    <tr>\n",
       "      <th>std</th>\n",
       "      <td>25156.636930</td>\n",
       "      <td>10.785106</td>\n",
       "    </tr>\n",
       "    <tr>\n",
       "      <th>min</th>\n",
       "      <td>45046.000000</td>\n",
       "      <td>24.000000</td>\n",
       "    </tr>\n",
       "    <tr>\n",
       "      <th>25%</th>\n",
       "      <td>55501.500000</td>\n",
       "      <td>33.000000</td>\n",
       "    </tr>\n",
       "    <tr>\n",
       "      <th>50%</th>\n",
       "      <td>62810.000000</td>\n",
       "      <td>42.000000</td>\n",
       "    </tr>\n",
       "    <tr>\n",
       "      <th>75%</th>\n",
       "      <td>72036.000000</td>\n",
       "      <td>51.500000</td>\n",
       "    </tr>\n",
       "    <tr>\n",
       "      <th>max</th>\n",
       "      <td>250000.000000</td>\n",
       "      <td>60.000000</td>\n",
       "    </tr>\n",
       "  </tbody>\n",
       "</table>\n",
       "</div>"
      ],
      "text/plain": [
       "              Salary         Age\n",
       "count     311.000000  311.000000\n",
       "mean    69020.684887   42.028939\n",
       "std     25156.636930   10.785106\n",
       "min     45046.000000   24.000000\n",
       "25%     55501.500000   33.000000\n",
       "50%     62810.000000   42.000000\n",
       "75%     72036.000000   51.500000\n",
       "max    250000.000000   60.000000"
      ]
     },
     "execution_count": 12,
     "metadata": {},
     "output_type": "execute_result"
    }
   ],
   "source": [
    "# Find the descriptive statistics for the variable age and identify the quartiles.\n",
    "data.describe()"
   ]
  },
  {
   "cell_type": "code",
   "execution_count": 21,
   "id": "407d7126",
   "metadata": {},
   "outputs": [
    {
     "name": "stdout",
     "output_type": "stream",
     "text": [
      "Identify the quartiles of Age (25%) : 33.0\n"
     ]
    }
   ],
   "source": [
    "# Find the descriptive statistics for the variable age and identify the quartiles.\n",
    "print(\"Identify the quartiles of Age (25%) :\",data['Age'].quantile(0.25))"
   ]
  },
  {
   "cell_type": "code",
   "execution_count": 22,
   "id": "9809a6d3",
   "metadata": {},
   "outputs": [
    {
     "name": "stdout",
     "output_type": "stream",
     "text": [
      "Identify the quartiles of Age (50%) : 42.0\n"
     ]
    }
   ],
   "source": [
    "# Find the descriptive statistics for the variable age and identify the quartiles.\n",
    "print(\"Identify the quartiles of Age (50%) :\",data['Age'].quantile(0.50))"
   ]
  },
  {
   "cell_type": "code",
   "execution_count": 23,
   "id": "0d30c77f",
   "metadata": {},
   "outputs": [
    {
     "name": "stdout",
     "output_type": "stream",
     "text": [
      "Identify the quartiles of Age (75%) : 51.5\n"
     ]
    }
   ],
   "source": [
    "# Find the descriptive statistics for the variable age and identify the quartiles.\n",
    "print(\"Identify the quartiles of Age (75%) :\",data['Age'].quantile(0.75))"
   ]
  },
  {
   "cell_type": "code",
   "execution_count": 14,
   "id": "cc99fba1",
   "metadata": {},
   "outputs": [
    {
     "data": {
      "text/plain": [
       "Female    176\n",
       "Male      135\n",
       "Name: Gender, dtype: int64"
      ]
     },
     "execution_count": 14,
     "metadata": {},
     "output_type": "execute_result"
    }
   ],
   "source": [
    "# find the count of gender.\n",
    "\n",
    "data['Gender'].value_counts() "
   ]
  },
  {
   "cell_type": "code",
   "execution_count": null,
   "id": "ed8e3cef",
   "metadata": {},
   "outputs": [],
   "source": [
    "\n"
   ]
  },
  {
   "cell_type": "code",
   "execution_count": 15,
   "id": "3b39801e",
   "metadata": {},
   "outputs": [
    {
     "data": {
      "image/png": "[encoded data removed]",
      "text/plain": [
       "<Figure size 640x480 with 1 Axes>"
      ]
     },
     "metadata": {},
     "output_type": "display_data"
    }
   ],
   "source": [
    "# find the frequency of genderin a bar chart.modify the chart.\n",
    "\n",
    "f = data['Gender'].value_counts(normalize= True).plot(kind='bar') "
   ]
  },
  {
   "cell_type": "code",
   "execution_count": 66,
   "id": "d68684e5",
   "metadata": {},
   "outputs": [
    {
     "data": {
      "text/plain": [
       "Female    0.565916\n",
       "Male      0.434084\n",
       "Name: Gender, dtype: float64"
      ]
     },
     "execution_count": 66,
     "metadata": {},
     "output_type": "execute_result"
    }
   ],
   "source": [
    " # Obtain the percentage value of number of male and female employees\n",
    "d=data['Gender'].value_counts(normalize= True) \n",
    "d"
   ]
  },
  {
   "cell_type": "code",
   "execution_count": 32,
   "id": "064f52d2",
   "metadata": {},
   "outputs": [
    {
     "data": {
      "image/png": "[encoded data removed]",
      "text/plain": [
       "<Figure size 640x480 with 1 Axes>"
      ]
     },
     "metadata": {},
     "output_type": "display_data"
    }
   ],
   "source": [
    "# Obtain the percentage value of number of male and female employees in a pie chart. modify the chart.\n",
    "\n",
    "f = data['Gender'].value_counts(normalize= True).plot(kind='pie',autopct='%1.2f%%') "
   ]
  },
  {
   "cell_type": "markdown",
   "id": "416bb7ce",
   "metadata": {},
   "source": [
    "2nd set of questions"
   ]
  },
  {
   "cell_type": "code",
   "execution_count": 36,
   "id": "7e82c52a",
   "metadata": {},
   "outputs": [
    {
     "name": "stdout",
     "output_type": "stream",
     "text": [
      "Average age of employees in each department: Department\n",
      "Admin Offices           45.555556\n",
      "Executive Office        36.000000\n",
      "IT/IS                   42.360000\n",
      "Production              42.004785\n",
      "Sales                   41.516129\n",
      "Software Engineering    40.090909\n",
      "Name: Age, dtype: float64\n"
     ]
    },
    {
     "name": "stderr",
     "output_type": "stream",
     "text": [
      "C:\\Users\\91984\\AppData\\Local\\Temp\\ipykernel_7800\\1019004338.py:2: FutureWarning: The default value of numeric_only in DataFrameGroupBy.mean is deprecated. In a future version, numeric_only will default to False. Either specify numeric_only or select only columns which should be valid for the function.\n",
      "  print(\"Average age of employees in each department:\",data.groupby(\"Department\").mean()[\"Age\"])\n"
     ]
    }
   ],
   "source": [
    "#Find the average age of employees in each department\n",
    "print(\"Average age of employees in each department:\",data.groupby(\"Department\").mean()[\"Age\"])"
   ]
  },
  {
   "cell_type": "code",
   "execution_count": 37,
   "id": "317deb0e",
   "metadata": {},
   "outputs": [
    {
     "name": "stdout",
     "output_type": "stream",
     "text": [
      "Minimum age of employees in each department: Department\n",
      "Admin Offices           25\n",
      "Executive Office        36\n",
      "IT/IS                   24\n",
      "Production              24\n",
      "Sales                   25\n",
      "Software Engineering    25\n",
      "Name: Age, dtype: int64\n"
     ]
    }
   ],
   "source": [
    "#Find the minimum age of employees in each department\n",
    "print(\"Minimum age of employees in each department:\",data.groupby(\"Department\").min()[\"Age\"])"
   ]
  },
  {
   "cell_type": "code",
   "execution_count": 38,
   "id": "3c4d0f01",
   "metadata": {},
   "outputs": [
    {
     "name": "stdout",
     "output_type": "stream",
     "text": [
      "Maxmum age of employees in each department: Department\n",
      "Admin Offices           58\n",
      "Executive Office        36\n",
      "IT/IS                   60\n",
      "Production              60\n",
      "Sales                   59\n",
      "Software Engineering    56\n",
      "Name: Age, dtype: int64\n"
     ]
    }
   ],
   "source": [
    "#Find the maximum age of employees in each department\n",
    "print(\"Maxmum age of employees in each department:\",data.groupby(\"Department\").max()[\"Age\"])"
   ]
  },
  {
   "cell_type": "code",
   "execution_count": 54,
   "id": "5750574e",
   "metadata": {},
   "outputs": [
    {
     "name": "stdout",
     "output_type": "stream",
     "text": [
      "Total of employees in each department: Department\n",
      "Admin Offices             646127\n",
      "Executive Office          250000\n",
      "IT/IS                    4853232\n",
      "Production              12530291\n",
      "Sales                    2140899\n",
      "Software Engineering     1044884\n",
      "Name: Salary, dtype: int64\n"
     ]
    },
    {
     "name": "stderr",
     "output_type": "stream",
     "text": [
      "C:\\Users\\91984\\AppData\\Local\\Temp\\ipykernel_7800\\2577629.py:2: FutureWarning: The default value of numeric_only in DataFrameGroupBy.sum is deprecated. In a future version, numeric_only will default to False. Either specify numeric_only or select only columns which should be valid for the function.\n",
      "  print(\"Total of employees in each department:\",data.groupby(\"Department\").sum()[\"Salary\"])\n"
     ]
    }
   ],
   "source": [
    "#Find the Total Salary of each department\n",
    "print(\"Total of employees in each department:\",data.groupby(\"Department\").sum()[\"Salary\"])"
   ]
  },
  {
   "cell_type": "code",
   "execution_count": 43,
   "id": "cd6691ee",
   "metadata": {},
   "outputs": [
    {
     "name": "stdout",
     "output_type": "stream",
     "text": [
      "Minimum of employees in each department: Department\n",
      "Admin Offices            49920\n",
      "Executive Office        250000\n",
      "IT/IS                    50178\n",
      "Production               45046\n",
      "Sales                    55875\n",
      "Software Engineering     77692\n",
      "Name: Salary, dtype: int64\n"
     ]
    }
   ],
   "source": [
    "#Find the minimum salary of each department\n",
    "print(\"Minimum of employees in each department:\",data.groupby(\"Department\").min()[\"Salary\"])"
   ]
  },
  {
   "cell_type": "code",
   "execution_count": 44,
   "id": "c8278cf3",
   "metadata": {},
   "outputs": [
    {
     "name": "stdout",
     "output_type": "stream",
     "text": [
      "Maximum of employees in each department: Department\n",
      "Admin Offices           106367\n",
      "Executive Office        250000\n",
      "IT/IS                   220450\n",
      "Production              170500\n",
      "Sales                   180000\n",
      "Software Engineering    108987\n",
      "Name: Salary, dtype: int64\n"
     ]
    }
   ],
   "source": [
    "#Find the maximum salary of each department\n",
    "print(\"Maximum of employees in each department:\",data.groupby(\"Department\").max()[\"Salary\"])"
   ]
  },
  {
   "cell_type": "code",
   "execution_count": 51,
   "id": "1933b6cb",
   "metadata": {},
   "outputs": [
    {
     "name": "stderr",
     "output_type": "stream",
     "text": [
      "C:\\Users\\91984\\AppData\\Local\\Temp\\ipykernel_7800\\3586332090.py:2: FutureWarning: The default value of numeric_only in DataFrameGroupBy.mean is deprecated. In a future version, numeric_only will default to False. Either specify numeric_only or select only columns which should be valid for the function.\n",
      "  f=data.groupby(\"Department\").mean()[\"Salary\"].plot(kind='bar')\n"
     ]
    },
    {
     "data": {
      "text/plain": [
       "<Axes: xlabel='Department'>"
      ]
     },
     "execution_count": 51,
     "metadata": {},
     "output_type": "execute_result"
    },
    {
     "data": {
      "image/png": "[encoded data removed]",
      "text/plain": [
       "<Figure size 640x480 with 1 Axes>"
      ]
     },
     "metadata": {},
     "output_type": "display_data"
    }
   ],
   "source": [
    "#Find the average salary of each department using clustered column chart\n",
    "f=data.groupby(\"Department\").mean()[\"Salary\"].plot(kind='bar')\n",
    "f\n",
    "#data['Gender'].sum()[\"Salary\"].plot(kind='pie')"
   ]
  },
  {
   "cell_type": "markdown",
   "id": "3863d2b3",
   "metadata": {},
   "source": [
    "Give an inference from the data"
   ]
  },
  {
   "cell_type": "code",
   "execution_count": null,
   "id": "0e192ef5",
   "metadata": {},
   "outputs": [],
   "source": [
    "*)This is a Human data.The data contains 311 rows × 6 columns.\n",
    "*)There is No null values in the data.\n",
    "*)The total salary is 21465433.\n",
    "*)The Average salary is 69020.6848874598.\n",
    "*)The maximum salary is 250000.\n",
    "*)The minimum salary is 45046.\n",
    "*) The Range of salary is 204954.\n",
    "*)Identify the varience of salary is  632856381.6100614.\n",
    "*)The Average age of employees is 42.02893890675241.\n",
    "*)The Minimum age of employees is 24.\n",
    "*)The Maximum age of employees is 60.\n",
    "*)Identify the quartiles of Age (25%) is 33.0.\n",
    "*)Identify the quartiles of Age (50%) is 42.0.\n",
    "*)Identify the quartiles of Age (75%) : 51.5."
   ]
  }
 ],
 "metadata": {
  "kernelspec": {
   "display_name": "Python 3 (ipykernel)",
   "language": "python",
   "name": "python3"
  },
  "language_info": {
   "codemirror_mode": {
    "name": "ipython",
    "version": 3
   },
   "file_extension": ".py",
   "mimetype": "text/x-python",
   "name": "python",
   "nbconvert_exporter": "python",
   "pygments_lexer": "ipython3",
   "version": "3.10.9"
  }
 },
 "nbformat": 4,
 "nbformat_minor": 5
}
